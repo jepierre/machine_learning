{
 "cells": [
  {
   "cell_type": "markdown",
   "metadata": {},
   "source": [
    "# custom training\n",
    "[custom training with tf](https://www.tensorflow.org/tutorials/customization/custom_training_walkthrough)  \n",
    "[volo tensorflow](https://www.kaggle.com/aruchomu/yolo-v3-object-detection-in-tensorflow/notebook)\n",
    "[another yolo with keras](https://machinelearningmastery.com/how-to-perform-object-detection-with-yolov3-in-keras/)  \n",
    "[drone-net](https://github.com/chuanenlin/drone-net)\n"
   ]
  },
  {
   "cell_type": "code",
   "execution_count": 1,
   "metadata": {},
   "outputs": [
    {
     "name": "stdout",
     "output_type": "stream",
     "text": [
      "/bin/sh: 1: ./darknet: not found\r\n"
     ]
    }
   ],
   "source": [
    "!./darknet detector test ../drone-net/cfg/drone.data ../drone-net/cfg/yolo-drone.cfg ../drone-net/weights/yolo-drone.weights ../drone-net/data/drone.jpg"
   ]
  },
  {
   "cell_type": "code",
   "execution_count": null,
   "metadata": {},
   "outputs": [],
   "source": []
  },
  {
   "cell_type": "code",
   "execution_count": null,
   "metadata": {},
   "outputs": [],
   "source": []
  }
 ],
 "metadata": {
  "kernelspec": {
   "display_name": "Python 3",
   "language": "python",
   "name": "python3"
  },
  "language_info": {
   "codemirror_mode": {
    "name": "ipython",
    "version": 3
   },
   "file_extension": ".py",
   "mimetype": "text/x-python",
   "name": "python",
   "nbconvert_exporter": "python",
   "pygments_lexer": "ipython3",
   "version": "3.7.7"
  }
 },
 "nbformat": 4,
 "nbformat_minor": 4
}
