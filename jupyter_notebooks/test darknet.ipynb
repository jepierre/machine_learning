{
 "cells": [
  {
   "cell_type": "markdown",
   "metadata": {},
   "source": [
    "[drone-net](https://github.com/chuanenlin/drone-net)\n"
   ]
  },
  {
   "cell_type": "code",
   "execution_count": 2,
   "metadata": {},
   "outputs": [
    {
     "name": "stdout",
     "output_type": "stream",
     "text": [
      "layer     filters    size              input                output\n",
      "    0 conv     16  3 x 3 / 1   416 x 416 x   3   ->   416 x 416 x  16  0.150 BFLOPs\n",
      "    1 max          2 x 2 / 2   416 x 416 x  16   ->   208 x 208 x  16\n",
      "    2 conv     32  3 x 3 / 1   208 x 208 x  16   ->   208 x 208 x  32  0.399 BFLOPs\n",
      "    3 max          2 x 2 / 2   208 x 208 x  32   ->   104 x 104 x  32\n",
      "    4 conv     64  3 x 3 / 1   104 x 104 x  32   ->   104 x 104 x  64  0.399 BFLOPs\n",
      "    5 max          2 x 2 / 2   104 x 104 x  64   ->    52 x  52 x  64\n",
      "    6 conv    128  3 x 3 / 1    52 x  52 x  64   ->    52 x  52 x 128  0.399 BFLOPs\n",
      "    7 max          2 x 2 / 2    52 x  52 x 128   ->    26 x  26 x 128\n",
      "    8 conv    256  3 x 3 / 1    26 x  26 x 128   ->    26 x  26 x 256  0.399 BFLOPs\n",
      "    9 max          2 x 2 / 2    26 x  26 x 256   ->    13 x  13 x 256\n",
      "   10 conv    512  3 x 3 / 1    13 x  13 x 256   ->    13 x  13 x 512  0.399 BFLOPs\n",
      "   11 max          2 x 2 / 1    13 x  13 x 512   ->    13 x  13 x 512\n",
      "   12 conv   1024  3 x 3 / 1    13 x  13 x 512   ->    13 x  13 x1024  1.595 BFLOPs\n",
      "   13 conv    256  1 x 1 / 1    13 x  13 x1024   ->    13 x  13 x 256  0.089 BFLOPs\n",
      "   14 conv    512  3 x 3 / 1    13 x  13 x 256   ->    13 x  13 x 512  0.399 BFLOPs\n",
      "   15 conv     18  1 x 1 / 1    13 x  13 x 512   ->    13 x  13 x  18  0.003 BFLOPs\n",
      "   16 yolo\n",
      "   17 route  13\n",
      "   18 conv    128  1 x 1 / 1    13 x  13 x 256   ->    13 x  13 x 128  0.011 BFLOPs\n",
      "   19 upsample            2x    13 x  13 x 128   ->    26 x  26 x 128\n",
      "   20 route  19 8\n",
      "   21 conv    256  3 x 3 / 1    26 x  26 x 384   ->    26 x  26 x 256  1.196 BFLOPs\n",
      "   22 conv     18  1 x 1 / 1    26 x  26 x 256   ->    26 x  26 x  18  0.006 BFLOPs\n",
      "   23 yolo\n",
      "Loading weights from ../drone-net/weights/yolo-drone.weights...Done!\n",
      "../drone-net/data/drone.jpg: Predicted in 0.664101 seconds.\n",
      "Drone: 93%\n"
     ]
    }
   ],
   "source": [
    "!./darknet detector test ../drone-net/cfg/drone.data ../drone-net/cfg/yolo-drone.cfg ../drone-net/weights/yolo-drone.weights ../drone-net/data/drone.jpg"
   ]
  },
  {
   "cell_type": "code",
   "execution_count": null,
   "metadata": {},
   "outputs": [],
   "source": []
  },
  {
   "cell_type": "code",
   "execution_count": null,
   "metadata": {},
   "outputs": [],
   "source": []
  }
 ],
 "metadata": {
  "kernelspec": {
   "display_name": "Python 3",
   "language": "python",
   "name": "python3"
  },
  "language_info": {
   "codemirror_mode": {
    "name": "ipython",
    "version": 3
   },
   "file_extension": ".py",
   "mimetype": "text/x-python",
   "name": "python",
   "nbconvert_exporter": "python",
   "pygments_lexer": "ipython3",
   "version": "3.7.7"
  }
 },
 "nbformat": 4,
 "nbformat_minor": 4
}
