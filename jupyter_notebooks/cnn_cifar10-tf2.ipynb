{
 "cells": [
  {
   "cell_type": "code",
   "execution_count": 38,
   "metadata": {},
   "outputs": [],
   "source": [
    "# Machine Learning with Tensorflow\n",
    "# get data here http://www.cs.toronto.edu/~kriz/cifar.html\n",
    "# run python tensorflow 1.x code\n",
    "# https://github.com/BinRoot/TensorFlow-Book.git\n",
    "\n"
   ]
  },
  {
   "cell_type": "code",
   "execution_count": 39,
   "metadata": {},
   "outputs": [],
   "source": [
    "# imports\n",
    "import tensorflow as tf\n",
    "import pickle\n",
    "import numpy as np\n",
    "import matplotlib.pyplot as plt\n",
    "from keras.models import Sequential\n",
    "from keras.layers import Dense, Conv2D, Dropout, Flatten, MaxPooling2D, MaxPool2D\n",
    "from keras.utils import to_categorical\n",
    "from keras import models, layers\n",
    "%matplotlib inline "
   ]
  },
  {
   "cell_type": "code",
   "execution_count": 40,
   "metadata": {},
   "outputs": [],
   "source": [
    "def unpickle(file):\n",
    "    fo = open(file, 'rb')\n",
    "    this_dict = pickle.load(fo, encoding='latin1')\n",
    "    fo.close()\n",
    "    return this_dict"
   ]
  },
  {
   "cell_type": "code",
   "execution_count": 41,
   "metadata": {},
   "outputs": [],
   "source": [
    "# cleaning the data\n",
    "def clean(data):\n",
    "    imgs = data.reshape(data.shape[0], 3, 32, 32)\n",
    "    grayscale_imgs = imgs.mean(1)\n",
    "    cropped_imgs = grayscale_imgs[:, 4:28, 4:28]\n",
    "    img_data = cropped_imgs.reshape(data.shape[0], -1)\n",
    "    img_size = np.shape(img_data)[1]\n",
    "    means = np.mean(img_data, axis=1)\n",
    "    meansT = means.reshape(len(means), 1)\n",
    "    stds = np.std(img_data, axis=1)\n",
    "    stdsT = stds.reshape(len(stds), 1)\n",
    "    adj_stds = np.maximum(stdsT, 1.0 / np.sqrt(img_size))\n",
    "    normalized = (img_data - meansT) / adj_stds\n",
    "    return normalized"
   ]
  },
  {
   "cell_type": "code",
   "execution_count": 42,
   "metadata": {},
   "outputs": [],
   "source": [
    "def read_data(directory):\n",
    "    names = unpickle('{}/batches.meta'.format(directory))['label_names']\n",
    "    print('names', names)\n",
    "    data, labels = [], []\n",
    "    for i in range(1, 6):\n",
    "        filename = '{}/data_batch_{}'.format(directory, i)\n",
    "        batch_data = unpickle(filename)\n",
    "        if len(data) > 0: \n",
    "            data = np.vstack((data, batch_data['data']))\n",
    "            labels = np.hstack((labels, batch_data['labels'])\n",
    "                              )        \n",
    "        else:\n",
    "            data = batch_data['data']\n",
    "            labels = batch_data['labels']\n",
    "    print(np.shape(data), np.shape(labels))\n",
    "    data = clean(data) \n",
    "    data = data.astype(np.float32)\n",
    "    return names, data, labels\n"
   ]
  },
  {
   "cell_type": "code",
   "execution_count": 43,
   "metadata": {
    "scrolled": true
   },
   "outputs": [
    {
     "name": "stdout",
     "output_type": "stream",
     "text": [
      "names ['airplane', 'automobile', 'bird', 'cat', 'deer', 'dog', 'frog', 'horse', 'ship', 'truck']\n",
      "(50000, 3072) (50000,)\n"
     ]
    }
   ],
   "source": [
    "learning_rate = 0.001\n",
    "\n",
    "names, data, labels = \\\n",
    "    read_data(r'D:\\Documents\\1_Projects\\CRSIP_ML\\data\\cifar-10-batches-py')"
   ]
  },
  {
   "cell_type": "code",
   "execution_count": 44,
   "metadata": {},
   "outputs": [
    {
     "data": {
      "text/plain": [
       "array([[-0.6937296 , -0.71540314, -0.686505  , ..., -0.08686984,\n",
       "        -0.29638094, -0.18801312],\n",
       "       [ 1.3697398 ,  1.2528099 ,  0.72940975, ..., -0.68488437,\n",
       "        -1.1860123 , -1.7038443 ],\n",
       "       [ 1.7809031 ,  1.7809031 ,  1.7809031 , ..., -0.59378237,\n",
       "        -0.58099234, -0.59378237],\n",
       "       ...,\n",
       "       [ 1.12856   ,  1.1333368 ,  1.1715513 , ..., -0.50034004,\n",
       "        -0.6388682 , -0.8012805 ],\n",
       "       [ 1.3223659 ,  1.3432754 ,  1.378125  , ..., -0.8173882 ,\n",
       "        -1.2704306 , -3.382305  ],\n",
       "       [ 0.09468836,  0.33273417,  0.56377864, ...,  0.01767354,\n",
       "        -0.19236688, -0.03133589]], dtype=float32)"
      ]
     },
     "execution_count": 44,
     "metadata": {},
     "output_type": "execute_result"
    }
   ],
   "source": [
    "data\n"
   ]
  },
  {
   "cell_type": "code",
   "execution_count": 45,
   "metadata": {},
   "outputs": [
    {
     "data": {
      "text/plain": [
       "(50000, 24, 24, 1)"
      ]
     },
     "execution_count": 45,
     "metadata": {},
     "output_type": "execute_result"
    }
   ],
   "source": [
    "data.shape\n",
    "# data_reshaped = tf.reshape(data, shape=[-1, 24, 24, 1])\n",
    "data_reshaped = data.reshape(data.shape[0], 24, 24, 1)\n",
    "data_reshaped.shape\n"
   ]
  },
  {
   "cell_type": "code",
   "execution_count": 46,
   "metadata": {},
   "outputs": [
    {
     "data": {
      "text/plain": [
       "(50000, 24, 24, 1)"
      ]
     },
     "execution_count": 46,
     "metadata": {},
     "output_type": "execute_result"
    }
   ],
   "source": [
    "input_shape  = data_reshaped.shape\n",
    "input_shape"
   ]
  },
  {
   "cell_type": "code",
   "execution_count": 47,
   "metadata": {},
   "outputs": [],
   "source": [
    "model = models.Sequential()\n",
    "model.add(layers.Conv2D(16, 3, activation='relu', input_shape=(24, 24, 1)))\n",
    "model.add(layers.MaxPool2D())\n",
    "model.add(layers.Conv2D(32, 3, activation='relu'))\n",
    "model.add(layers.MaxPool2D(padding='same'))\n",
    "model.add(layers.Conv2D(64, 3, activation='relu'))\n",
    "model.add(layers.MaxPool2D(padding='same'))\n",
    "model.add(layers.Conv2D(128, 1, activation='relu'))\n",
    "model.add(layers.MaxPool2D(padding='same'))\n",
    "model.add(layers.Conv2D(256, 1, activation='relu'))\n",
    "\n",
    "#model.add(layers.MaxPool2D())\n",
    "#model.add(layers.Flatten())  # This layer is not compatible with ARM-NN\n",
    "#model.add(layers.Reshape([256])) # still implements as strided slice, not compatible\n",
    "#model.add(layers.Lambda(lambda x: K.reshape(x, [-1, 256])))  # reshape from/to 4D tensor not supported\n",
    "#model.add(layers.Dense(256, activation='relu'))\n",
    "\n",
    "model.add(layers.GlobalAveragePooling2D())\n",
    "model.add(layers.Dense(256, activation='relu'))\n",
    "\n",
    "\n",
    "model.add(layers.Dropout(0.5))\n",
    "model.add(layers.Dense(10, activation='softmax'))"
   ]
  },
  {
   "cell_type": "code",
   "execution_count": 48,
   "metadata": {
    "scrolled": false
   },
   "outputs": [
    {
     "name": "stdout",
     "output_type": "stream",
     "text": [
      "Model: \"sequential_4\"\n",
      "_________________________________________________________________\n",
      "Layer (type)                 Output Shape              Param #   \n",
      "=================================================================\n",
      "conv2d_16 (Conv2D)           (None, 22, 22, 16)        160       \n",
      "_________________________________________________________________\n",
      "max_pooling2d_13 (MaxPooling (None, 11, 11, 16)        0         \n",
      "_________________________________________________________________\n",
      "conv2d_17 (Conv2D)           (None, 9, 9, 32)          4640      \n",
      "_________________________________________________________________\n",
      "max_pooling2d_14 (MaxPooling (None, 5, 5, 32)          0         \n",
      "_________________________________________________________________\n",
      "conv2d_18 (Conv2D)           (None, 3, 3, 64)          18496     \n",
      "_________________________________________________________________\n",
      "max_pooling2d_15 (MaxPooling (None, 2, 2, 64)          0         \n",
      "_________________________________________________________________\n",
      "conv2d_19 (Conv2D)           (None, 2, 2, 128)         8320      \n",
      "_________________________________________________________________\n",
      "max_pooling2d_16 (MaxPooling (None, 1, 1, 128)         0         \n",
      "_________________________________________________________________\n",
      "conv2d_20 (Conv2D)           (None, 1, 1, 256)         33024     \n",
      "_________________________________________________________________\n",
      "global_average_pooling2d_4 ( (None, 256)               0         \n",
      "_________________________________________________________________\n",
      "dense_7 (Dense)              (None, 256)               65792     \n",
      "_________________________________________________________________\n",
      "dropout_4 (Dropout)          (None, 256)               0         \n",
      "_________________________________________________________________\n",
      "dense_8 (Dense)              (None, 10)                2570      \n",
      "=================================================================\n",
      "Total params: 133,002\n",
      "Trainable params: 133,002\n",
      "Non-trainable params: 0\n",
      "_________________________________________________________________\n"
     ]
    }
   ],
   "source": [
    "model.summary()"
   ]
  },
  {
   "cell_type": "code",
   "execution_count": 49,
   "metadata": {},
   "outputs": [],
   "source": [
    "# model.compile(optimizer='adam', metrics=['accuracy'], loss='sparse_categorical_crossentropy')\n",
    "model.compile(optimizer='adam', metrics=['accuracy'], loss='categorical_crossentropy')\n"
   ]
  },
  {
   "cell_type": "code",
   "execution_count": 50,
   "metadata": {},
   "outputs": [
    {
     "data": {
      "text/plain": [
       "(50000, 10)"
      ]
     },
     "execution_count": 50,
     "metadata": {},
     "output_type": "execute_result"
    }
   ],
   "source": [
    "labels_cat = to_categorical(labels)\n",
    "labels_cat.shape"
   ]
  },
  {
   "cell_type": "code",
   "execution_count": 51,
   "metadata": {},
   "outputs": [
    {
     "data": {
      "text/plain": [
       "array([0., 0., 0., 0., 0., 0., 0., 0., 0., 1.], dtype=float32)"
      ]
     },
     "execution_count": 51,
     "metadata": {},
     "output_type": "execute_result"
    }
   ],
   "source": [
    "labels_cat[1]"
   ]
  },
  {
   "cell_type": "code",
   "execution_count": 52,
   "metadata": {},
   "outputs": [
    {
     "name": "stdout",
     "output_type": "stream",
     "text": [
      "Epoch 1/20\n",
      "50000/50000 [==============================] - 4s 85us/step - loss: 1.7933 - accuracy: 0.3470\n",
      "Epoch 2/20\n",
      "50000/50000 [==============================] - 4s 79us/step - loss: 1.4550 - accuracy: 0.4857\n",
      "Epoch 3/20\n",
      "50000/50000 [==============================] - 4s 81us/step - loss: 1.3124 - accuracy: 0.5410\n",
      "Epoch 4/20\n",
      "50000/50000 [==============================] - 4s 82us/step - loss: 1.2141 - accuracy: 0.5795\n",
      "Epoch 5/20\n",
      "50000/50000 [==============================] - 5s 99us/step - loss: 1.1390 - accuracy: 0.6058\n",
      "Epoch 6/20\n",
      "50000/50000 [==============================] - 6s 129us/step - loss: 1.0718 - accuracy: 0.6291\n",
      "Epoch 7/20\n",
      "50000/50000 [==============================] - 5s 97us/step - loss: 1.0218 - accuracy: 0.6465\n",
      "Epoch 8/20\n",
      "50000/50000 [==============================] - 4s 79us/step - loss: 0.9784 - accuracy: 0.6622\n",
      "Epoch 9/20\n",
      "50000/50000 [==============================] - 4s 82us/step - loss: 0.9414 - accuracy: 0.6740\n",
      "Epoch 10/20\n",
      "50000/50000 [==============================] - 4s 84us/step - loss: 0.9027 - accuracy: 0.6869\n",
      "Epoch 11/20\n",
      "50000/50000 [==============================] - 4s 81us/step - loss: 0.8691 - accuracy: 0.6987\n",
      "Epoch 12/20\n",
      "50000/50000 [==============================] - 4s 79us/step - loss: 0.8431 - accuracy: 0.7058\n",
      "Epoch 13/20\n",
      "50000/50000 [==============================] - 4s 86us/step - loss: 0.8189 - accuracy: 0.7160\n",
      "Epoch 14/20\n",
      "50000/50000 [==============================] - 4s 83us/step - loss: 0.7917 - accuracy: 0.7233\n",
      "Epoch 15/20\n",
      "50000/50000 [==============================] - 4s 79us/step - loss: 0.7647 - accuracy: 0.7337\n",
      "Epoch 16/20\n",
      "50000/50000 [==============================] - 4s 80us/step - loss: 0.7451 - accuracy: 0.7389\n",
      "Epoch 17/20\n",
      "50000/50000 [==============================] - 4s 85us/step - loss: 0.7258 - accuracy: 0.7457\n",
      "Epoch 18/20\n",
      "50000/50000 [==============================] - 4s 80us/step - loss: 0.6972 - accuracy: 0.7510\n",
      "Epoch 19/20\n",
      "50000/50000 [==============================] - 4s 78us/step - loss: 0.6797 - accuracy: 0.7597\n",
      "Epoch 20/20\n",
      "50000/50000 [==============================] - 4s 81us/step - loss: 0.6643 - accuracy: 0.7643\n"
     ]
    },
    {
     "data": {
      "text/plain": [
       "<keras.callbacks.callbacks.History at 0x2b4c7a62508>"
      ]
     },
     "execution_count": 52,
     "metadata": {},
     "output_type": "execute_result"
    }
   ],
   "source": [
    "model.fit(data_reshaped, labels_cat, epochs=20, batch_size=64)\n"
   ]
  },
  {
   "cell_type": "code",
   "execution_count": null,
   "metadata": {},
   "outputs": [],
   "source": []
  }
 ],
 "metadata": {
  "kernelspec": {
   "display_name": "ml_env",
   "language": "python",
   "name": "ml_env"
  },
  "language_info": {
   "codemirror_mode": {
    "name": "ipython",
    "version": 3
   },
   "file_extension": ".py",
   "mimetype": "text/x-python",
   "name": "python",
   "nbconvert_exporter": "python",
   "pygments_lexer": "ipython3",
   "version": "3.7.6"
  }
 },
 "nbformat": 4,
 "nbformat_minor": 4
}
