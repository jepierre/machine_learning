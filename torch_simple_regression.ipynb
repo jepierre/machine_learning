{
 "cells": [
  {
   "cell_type": "markdown",
   "metadata": {},
   "source": [
    "[reference1](https://towardsdatascience.com/linear-regression-with-pytorch-eb6dedead817)\n",
    "[reference2](https://pytorch.org/tutorials/beginner/introyt/modelsyt_tutorial.html)"
   ]
  },
  {
   "cell_type": "code",
   "execution_count": 100,
   "metadata": {},
   "outputs": [],
   "source": [
    "import torch\n",
    "import numpy as np\n",
    "import matplotlib.pyplot as plt\n",
    "from sklearn.preprocessing import MinMaxScaler\n",
    "\n",
    "%matplotlib inline\n",
    "\n",
    "# plt.rcParams['figure.figsize'] = []"
   ]
  },
  {
   "cell_type": "code",
   "execution_count": 101,
   "metadata": {},
   "outputs": [],
   "source": [
    "x_train = np.arange(0, 1001, dtype=np.float32)\n",
    "x_train = x_train.reshape(-1, 1)\n",
    "\n",
    "y_train = 0.5*x_train + 50\n",
    "# y_train = 0.5*x_train"
   ]
  },
  {
   "cell_type": "code",
   "execution_count": 102,
   "metadata": {},
   "outputs": [
    {
     "data": {
      "text/plain": [
       "[<matplotlib.lines.Line2D at 0x2988695bac0>]"
      ]
     },
     "execution_count": 102,
     "metadata": {},
     "output_type": "execute_result"
    },
    {
     "data": {
      "image/png": "[encoded data removed]",
      "text/plain": [
       "<Figure size 432x288 with 1 Axes>"
      ]
     },
     "metadata": {
      "needs_background": "light"
     },
     "output_type": "display_data"
    }
   ],
   "source": [
    "plt.plot(x_train, y_train)"
   ]
  },
  {
   "cell_type": "code",
   "execution_count": 103,
   "metadata": {},
   "outputs": [],
   "source": [
    "scaler_x = MinMaxScaler()\n",
    "scaler_y = MinMaxScaler()\n",
    "scaler_x.fit(x_train.reshape(-1,1))\n",
    "scaler_y.fit(y_train.reshape(-1,1))\n",
    "x_train = scaler_x.transform(x_train.reshape(-1, 1))\n",
    "y_train = scaler_y.transform(y_train.reshape(-1, 1))"
   ]
  },
  {
   "cell_type": "code",
   "execution_count": 119,
   "metadata": {},
   "outputs": [],
   "source": [
    "import torch \n",
    "from torch.autograd import Variable\n",
    "\n",
    "class LinearRegression(torch.nn.Module):\n",
    "    def __init__(self, input_size, output_size, hidden_size=10) -> None:\n",
    "        super(LinearRegression, self).__init__()\n",
    "        self.linear1 = torch.nn.Linear(input_size, hidden_size)\n",
    "        self.activation =torch.nn.ReLU()\n",
    "        self.linear2 = torch.nn.Linear(hidden_size, output_size)\n",
    "        self.softmax = torch.nn.Softmax()\n",
    "        self.linear = torch.nn.Linear(input_size, output_size)\n",
    "        \n",
    "    def forward(self, x):\n",
    "        x = self.linear1(x)\n",
    "        x = self.activation(x)\n",
    "        x = self.linear2(x)\n",
    "        x = self.softmax(x)\n",
    "        return x\n",
    "        # y = torch.nn.functional.relu(self.linear1(x))\n",
    "        # y = torch.nn.ReLU(self.linear2(self.linear1(x)))\n",
    "\n",
    "        # y = torch.nn.functional.relu(self.linear(x))\n",
    "        # return y"
   ]
  },
  {
   "cell_type": "code",
   "execution_count": 124,
   "metadata": {},
   "outputs": [],
   "source": [
    "input_dim = x_train.shape[1]\n",
    "output_dim = 1\n",
    "learning_rate = .00001\n",
    "epochs = 100\n",
    "\n",
    "model = LinearRegression(input_dim, output_dim)\n",
    "\n",
    "### FOR GPU ###\n",
    "if torch.cuda.is_available():\n",
    "    model.cuda()"
   ]
  },
  {
   "cell_type": "code",
   "execution_count": 125,
   "metadata": {},
   "outputs": [],
   "source": [
    "# set loss\n",
    "criterion = torch.nn.MSELoss()\n",
    "\n",
    "optimizer = torch.optim.SGD(model.parameters(), lr=learning_rate)\n",
    "# optimizer = torch.optim.Adam(model.parameters())"
   ]
  },
  {
   "cell_type": "code",
   "execution_count": 126,
   "metadata": {},
   "outputs": [
    {
     "name": "stderr",
     "output_type": "stream",
     "text": [
      "C:\\Users\\PRIME\\AppData\\Local\\Temp/ipykernel_62844/2341737555.py:17: UserWarning: Implicit dimension choice for softmax has been deprecated. Change the call to include dim=X as an argument.\n",
      "  x = self.softmax(x)\n"
     ]
    },
    {
     "name": "stdout",
     "output_type": "stream",
     "text": [
      "tensor(0.3335, grad_fn=<MseLossBackward>)\n",
      "epoch 0, loss 0.3334999680519104\n",
      "tensor(0.3335, grad_fn=<MseLossBackward>)\n",
      "epoch 1, loss 0.3334999680519104\n",
      "tensor(0.3335, grad_fn=<MseLossBackward>)\n",
      "epoch 2, loss 0.3334999680519104\n",
      "tensor(0.3335, grad_fn=<MseLossBackward>)\n",
      "epoch 3, loss 0.3334999680519104\n",
      "tensor(0.3335, grad_fn=<MseLossBackward>)\n",
      "epoch 4, loss 0.3334999680519104\n",
      "tensor(0.3335, grad_fn=<MseLossBackward>)\n",
      "epoch 5, loss 0.3334999680519104\n",
      "tensor(0.3335, grad_fn=<MseLossBackward>)\n",
      "epoch 6, loss 0.3334999680519104\n",
      "tensor(0.3335, grad_fn=<MseLossBackward>)\n",
      "epoch 7, loss 0.3334999680519104\n",
      "tensor(0.3335, grad_fn=<MseLossBackward>)\n",
      "epoch 8, loss 0.3334999680519104\n",
      "tensor(0.3335, grad_fn=<MseLossBackward>)\n",
      "epoch 9, loss 0.3334999680519104\n",
      "tensor(0.3335, grad_fn=<MseLossBackward>)\n",
      "epoch 10, loss 0.3334999680519104\n",
      "tensor(0.3335, grad_fn=<MseLossBackward>)\n",
      "epoch 11, loss 0.3334999680519104\n",
      "tensor(0.3335, grad_fn=<MseLossBackward>)\n",
      "epoch 12, loss 0.3334999680519104\n",
      "tensor(0.3335, grad_fn=<MseLossBackward>)\n",
      "epoch 13, loss 0.3334999680519104\n",
      "tensor(0.3335, grad_fn=<MseLossBackward>)\n",
      "epoch 14, loss 0.3334999680519104\n",
      "tensor(0.3335, grad_fn=<MseLossBackward>)\n",
      "epoch 15, loss 0.3334999680519104\n",
      "tensor(0.3335, grad_fn=<MseLossBackward>)\n",
      "epoch 16, loss 0.3334999680519104\n",
      "tensor(0.3335, grad_fn=<MseLossBackward>)\n",
      "epoch 17, loss 0.3334999680519104\n",
      "tensor(0.3335, grad_fn=<MseLossBackward>)\n",
      "epoch 18, loss 0.3334999680519104\n",
      "tensor(0.3335, grad_fn=<MseLossBackward>)\n",
      "epoch 19, loss 0.3334999680519104\n",
      "tensor(0.3335, grad_fn=<MseLossBackward>)\n",
      "epoch 20, loss 0.3334999680519104\n",
      "tensor(0.3335, grad_fn=<MseLossBackward>)\n",
      "epoch 21, loss 0.3334999680519104\n",
      "tensor(0.3335, grad_fn=<MseLossBackward>)\n",
      "epoch 22, loss 0.3334999680519104\n",
      "tensor(0.3335, grad_fn=<MseLossBackward>)\n",
      "epoch 23, loss 0.3334999680519104\n",
      "tensor(0.3335, grad_fn=<MseLossBackward>)\n",
      "epoch 24, loss 0.3334999680519104\n",
      "tensor(0.3335, grad_fn=<MseLossBackward>)\n",
      "epoch 25, loss 0.3334999680519104\n",
      "tensor(0.3335, grad_fn=<MseLossBackward>)\n",
      "epoch 26, loss 0.3334999680519104\n",
      "tensor(0.3335, grad_fn=<MseLossBackward>)\n",
      "epoch 27, loss 0.3334999680519104\n",
      "tensor(0.3335, grad_fn=<MseLossBackward>)\n",
      "epoch 28, loss 0.3334999680519104\n",
      "tensor(0.3335, grad_fn=<MseLossBackward>)\n",
      "epoch 29, loss 0.3334999680519104\n",
      "tensor(0.3335, grad_fn=<MseLossBackward>)\n",
      "epoch 30, loss 0.3334999680519104\n",
      "tensor(0.3335, grad_fn=<MseLossBackward>)\n",
      "epoch 31, loss 0.3334999680519104\n",
      "tensor(0.3335, grad_fn=<MseLossBackward>)\n",
      "epoch 32, loss 0.3334999680519104\n",
      "tensor(0.3335, grad_fn=<MseLossBackward>)\n",
      "epoch 33, loss 0.3334999680519104\n",
      "tensor(0.3335, grad_fn=<MseLossBackward>)\n",
      "epoch 34, loss 0.3334999680519104\n",
      "tensor(0.3335, grad_fn=<MseLossBackward>)\n",
      "epoch 35, loss 0.3334999680519104\n",
      "tensor(0.3335, grad_fn=<MseLossBackward>)\n",
      "epoch 36, loss 0.3334999680519104\n",
      "tensor(0.3335, grad_fn=<MseLossBackward>)\n",
      "epoch 37, loss 0.3334999680519104\n",
      "tensor(0.3335, grad_fn=<MseLossBackward>)\n",
      "epoch 38, loss 0.3334999680519104\n",
      "tensor(0.3335, grad_fn=<MseLossBackward>)\n",
      "epoch 39, loss 0.3334999680519104\n",
      "tensor(0.3335, grad_fn=<MseLossBackward>)\n",
      "epoch 40, loss 0.3334999680519104\n",
      "tensor(0.3335, grad_fn=<MseLossBackward>)\n",
      "epoch 41, loss 0.3334999680519104\n",
      "tensor(0.3335, grad_fn=<MseLossBackward>)\n",
      "epoch 42, loss 0.3334999680519104\n",
      "tensor(0.3335, grad_fn=<MseLossBackward>)\n",
      "epoch 43, loss 0.3334999680519104\n",
      "tensor(0.3335, grad_fn=<MseLossBackward>)\n",
      "epoch 44, loss 0.3334999680519104\n",
      "tensor(0.3335, grad_fn=<MseLossBackward>)\n",
      "epoch 45, loss 0.3334999680519104\n",
      "tensor(0.3335, grad_fn=<MseLossBackward>)\n",
      "epoch 46, loss 0.3334999680519104\n",
      "tensor(0.3335, grad_fn=<MseLossBackward>)\n",
      "epoch 47, loss 0.3334999680519104\n",
      "tensor(0.3335, grad_fn=<MseLossBackward>)\n",
      "epoch 48, loss 0.3334999680519104\n",
      "tensor(0.3335, grad_fn=<MseLossBackward>)\n",
      "epoch 49, loss 0.3334999680519104\n",
      "tensor(0.3335, grad_fn=<MseLossBackward>)\n",
      "epoch 50, loss 0.3334999680519104\n",
      "tensor(0.3335, grad_fn=<MseLossBackward>)\n",
      "epoch 51, loss 0.3334999680519104\n",
      "tensor(0.3335, grad_fn=<MseLossBackward>)\n",
      "epoch 52, loss 0.3334999680519104\n",
      "tensor(0.3335, grad_fn=<MseLossBackward>)\n",
      "epoch 53, loss 0.3334999680519104\n",
      "tensor(0.3335, grad_fn=<MseLossBackward>)\n",
      "epoch 54, loss 0.3334999680519104\n",
      "tensor(0.3335, grad_fn=<MseLossBackward>)\n",
      "epoch 55, loss 0.3334999680519104\n",
      "tensor(0.3335, grad_fn=<MseLossBackward>)\n",
      "epoch 56, loss 0.3334999680519104\n",
      "tensor(0.3335, grad_fn=<MseLossBackward>)\n",
      "epoch 57, loss 0.3334999680519104\n",
      "tensor(0.3335, grad_fn=<MseLossBackward>)\n",
      "epoch 58, loss 0.3334999680519104\n",
      "tensor(0.3335, grad_fn=<MseLossBackward>)\n",
      "epoch 59, loss 0.3334999680519104\n",
      "tensor(0.3335, grad_fn=<MseLossBackward>)\n",
      "epoch 60, loss 0.3334999680519104\n",
      "tensor(0.3335, grad_fn=<MseLossBackward>)\n",
      "epoch 61, loss 0.3334999680519104\n",
      "tensor(0.3335, grad_fn=<MseLossBackward>)\n",
      "epoch 62, loss 0.3334999680519104\n",
      "tensor(0.3335, grad_fn=<MseLossBackward>)\n",
      "epoch 63, loss 0.3334999680519104\n",
      "tensor(0.3335, grad_fn=<MseLossBackward>)\n",
      "epoch 64, loss 0.3334999680519104\n",
      "tensor(0.3335, grad_fn=<MseLossBackward>)\n",
      "epoch 65, loss 0.3334999680519104\n",
      "tensor(0.3335, grad_fn=<MseLossBackward>)\n",
      "epoch 66, loss 0.3334999680519104\n",
      "tensor(0.3335, grad_fn=<MseLossBackward>)\n",
      "epoch 67, loss 0.3334999680519104\n",
      "tensor(0.3335, grad_fn=<MseLossBackward>)\n",
      "epoch 68, loss 0.3334999680519104\n",
      "tensor(0.3335, grad_fn=<MseLossBackward>)\n",
      "epoch 69, loss 0.3334999680519104\n",
      "tensor(0.3335, grad_fn=<MseLossBackward>)\n",
      "epoch 70, loss 0.3334999680519104\n",
      "tensor(0.3335, grad_fn=<MseLossBackward>)\n",
      "epoch 71, loss 0.3334999680519104\n",
      "tensor(0.3335, grad_fn=<MseLossBackward>)\n",
      "epoch 72, loss 0.3334999680519104\n",
      "tensor(0.3335, grad_fn=<MseLossBackward>)\n",
      "epoch 73, loss 0.3334999680519104\n",
      "tensor(0.3335, grad_fn=<MseLossBackward>)\n",
      "epoch 74, loss 0.3334999680519104\n",
      "tensor(0.3335, grad_fn=<MseLossBackward>)\n",
      "epoch 75, loss 0.3334999680519104\n",
      "tensor(0.3335, grad_fn=<MseLossBackward>)\n",
      "epoch 76, loss 0.3334999680519104\n",
      "tensor(0.3335, grad_fn=<MseLossBackward>)\n",
      "epoch 77, loss 0.3334999680519104\n",
      "tensor(0.3335, grad_fn=<MseLossBackward>)\n",
      "epoch 78, loss 0.3334999680519104\n",
      "tensor(0.3335, grad_fn=<MseLossBackward>)\n",
      "epoch 79, loss 0.3334999680519104\n",
      "tensor(0.3335, grad_fn=<MseLossBackward>)\n",
      "epoch 80, loss 0.3334999680519104\n",
      "tensor(0.3335, grad_fn=<MseLossBackward>)\n",
      "epoch 81, loss 0.3334999680519104\n",
      "tensor(0.3335, grad_fn=<MseLossBackward>)\n",
      "epoch 82, loss 0.3334999680519104\n",
      "tensor(0.3335, grad_fn=<MseLossBackward>)\n",
      "epoch 83, loss 0.3334999680519104\n",
      "tensor(0.3335, grad_fn=<MseLossBackward>)\n",
      "epoch 84, loss 0.3334999680519104\n",
      "tensor(0.3335, grad_fn=<MseLossBackward>)\n",
      "epoch 85, loss 0.3334999680519104\n",
      "tensor(0.3335, grad_fn=<MseLossBackward>)\n",
      "epoch 86, loss 0.3334999680519104\n",
      "tensor(0.3335, grad_fn=<MseLossBackward>)\n",
      "epoch 87, loss 0.3334999680519104\n",
      "tensor(0.3335, grad_fn=<MseLossBackward>)\n",
      "epoch 88, loss 0.3334999680519104\n",
      "tensor(0.3335, grad_fn=<MseLossBackward>)\n",
      "epoch 89, loss 0.3334999680519104\n",
      "tensor(0.3335, grad_fn=<MseLossBackward>)\n",
      "epoch 90, loss 0.3334999680519104\n",
      "tensor(0.3335, grad_fn=<MseLossBackward>)\n",
      "epoch 91, loss 0.3334999680519104\n",
      "tensor(0.3335, grad_fn=<MseLossBackward>)\n",
      "epoch 92, loss 0.3334999680519104\n",
      "tensor(0.3335, grad_fn=<MseLossBackward>)\n",
      "epoch 93, loss 0.3334999680519104\n",
      "tensor(0.3335, grad_fn=<MseLossBackward>)\n",
      "epoch 94, loss 0.3334999680519104\n",
      "tensor(0.3335, grad_fn=<MseLossBackward>)\n",
      "epoch 95, loss 0.3334999680519104\n",
      "tensor(0.3335, grad_fn=<MseLossBackward>)\n",
      "epoch 96, loss 0.3334999680519104\n",
      "tensor(0.3335, grad_fn=<MseLossBackward>)\n",
      "epoch 97, loss 0.3334999680519104\n",
      "tensor(0.3335, grad_fn=<MseLossBackward>)\n",
      "epoch 98, loss 0.3334999680519104\n",
      "tensor(0.3335, grad_fn=<MseLossBackward>)\n",
      "epoch 99, loss 0.3334999680519104\n"
     ]
    }
   ],
   "source": [
    "for epoch in range(epochs):\n",
    "    inputs = Variable(torch.from_numpy(x_train))\n",
    "    labels = Variable(torch.from_numpy(y_train))\n",
    "    \n",
    "    # clear gradient buffers\n",
    "    optimizer.zero_grad()\n",
    "    \n",
    "    outputs = model(inputs)\n",
    "    \n",
    "    # get the loss\n",
    "    loss = criterion(outputs, labels)\n",
    "    print(loss)\n",
    "    \n",
    "    # get gradients w.r.t to parameters\n",
    "    loss.backward()\n",
    "    \n",
    "    # update parameters\n",
    "    optimizer.step()\n",
    "    \n",
    "    print(f'epoch {epoch}, loss {loss.item()}')"
   ]
  },
  {
   "cell_type": "code",
   "execution_count": 127,
   "metadata": {},
   "outputs": [
    {
     "name": "stderr",
     "output_type": "stream",
     "text": [
      "C:\\Users\\PRIME\\AppData\\Local\\Temp/ipykernel_62844/2341737555.py:17: UserWarning: Implicit dimension choice for softmax has been deprecated. Change the call to include dim=X as an argument.\n",
      "  x = self.softmax(x)\n"
     ]
    },
    {
     "name": "stdout",
     "output_type": "stream",
     "text": [
      "[[1.]\n",
      " [1.]\n",
      " [1.]\n",
      " ...\n",
      " [1.]\n",
      " [1.]\n",
      " [1.]]\n"
     ]
    },
    {
     "data": {
      "image/png": "[encoded data removed]",
      "text/plain": [
       "<Figure size 432x288 with 1 Axes>"
      ]
     },
     "metadata": {
      "needs_background": "light"
     },
     "output_type": "display_data"
    }
   ],
   "source": [
    "with torch.no_grad():\n",
    "    predicted = model(Variable(torch.from_numpy(x_train))).data.numpy()\n",
    "    print(predicted)\n",
    "    \n",
    "plt.clf()\n",
    "plt.plot(x_train, y_train, 'go', label=\"True Data\", alpha=0.5)\n",
    "plt.plot(x_train, predicted, '--', label='Predictions', alpha=0.5)\n",
    "# plt.plot(scaler_x.inverse_transform(x_train), scaler_y.inverse_transform(y_train), 'go', label=\"True Data\", alpha=0.5)\n",
    "# plt.plot(scaler_x.inverse_transform(x_train), scaler_y.inverse_transform(predicted), '--', label='Predictions', alpha=0.5)\n",
    "plt.legend(loc='best')\n",
    "plt.show()"
   ]
  },
  {
   "cell_type": "code",
   "execution_count": 128,
   "metadata": {},
   "outputs": [
    {
     "name": "stdout",
     "output_type": "stream",
     "text": [
      "tensor([[ 0.0124],\n",
      "        [-0.8131],\n",
      "        [ 0.2804],\n",
      "        [-0.9314],\n",
      "        [ 0.4177],\n",
      "        [-0.7774],\n",
      "        [ 0.0218],\n",
      "        [ 0.1745],\n",
      "        [ 0.4361],\n",
      "        [ 0.5410]])\n",
      "tensor([ 0.9647, -0.3682,  0.9316, -0.6998, -0.5527,  0.3897, -0.4451, -0.9075,\n",
      "         0.0506,  0.4465])\n",
      "tensor([[ 0.2784,  0.2282, -0.2690,  0.2562,  0.1692,  0.1042, -0.0339, -0.2538,\n",
      "          0.1654, -0.3112]])\n",
      "tensor([0.1766])\n",
      "tensor([[0.7029]])\n",
      "tensor([0.2958])\n"
     ]
    }
   ],
   "source": [
    "for param in model.parameters():\n",
    "    print(param.data)"
   ]
  },
  {
   "cell_type": "code",
   "execution_count": null,
   "metadata": {},
   "outputs": [],
   "source": []
  }
 ],
 "metadata": {
  "interpreter": {
   "hash": "5babec41400dd803e5ccddfdaa7cc8ca10e24ca1bd9ba67290c0529853629cb5"
  },
  "kernelspec": {
   "display_name": "Python 3.9.7 64-bit ('ml_tf': conda)",
   "language": "python",
   "name": "python3"
  },
  "language_info": {
   "codemirror_mode": {
    "name": "ipython",
    "version": 3
   },
   "file_extension": ".py",
   "mimetype": "text/x-python",
   "name": "python",
   "nbconvert_exporter": "python",
   "pygments_lexer": "ipython3",
   "version": "3.9.7"
  },
  "orig_nbformat": 4
 },
 "nbformat": 4,
 "nbformat_minor": 2
}
