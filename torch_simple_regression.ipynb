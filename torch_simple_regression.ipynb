{
 "cells": [
  {
   "cell_type": "markdown",
   "metadata": {},
   "source": [
    "[referece](https://towardsdatascience.com/linear-regression-with-pytorch-eb6dedead817)"
   ]
  },
  {
   "cell_type": "code",
   "execution_count": 41,
   "metadata": {},
   "outputs": [],
   "source": [
    "import torch\n",
    "import numpy as np\n",
    "import matplotlib.pyplot as plt\n",
    "from sklearn.preprocessing import MinMaxScaler\n",
    "\n",
    "%matplotlib inline\n",
    "\n",
    "# plt.rcParams['figure.figsize'] = []"
   ]
  },
  {
   "cell_type": "code",
   "execution_count": 42,
   "metadata": {},
   "outputs": [],
   "source": [
    "x_train = np.arange(0, 1001, dtype=np.float32)\n",
    "x_train = x_train.reshape(-1, 1)\n",
    "\n",
    "y_train = 2*x_train + 1\n",
    "# y_train = 0.5*x_train"
   ]
  },
  {
   "cell_type": "code",
   "execution_count": 43,
   "metadata": {},
   "outputs": [
    {
     "data": {
      "text/plain": [
       "[<matplotlib.lines.Line2D at 0x16d3ee3a1f0>]"
      ]
     },
     "execution_count": 43,
     "metadata": {},
     "output_type": "execute_result"
    },
    {
     "data": {
      "image/png": "[encoded data removed]",
      "text/plain": [
       "<Figure size 432x288 with 1 Axes>"
      ]
     },
     "metadata": {
      "needs_background": "light"
     },
     "output_type": "display_data"
    }
   ],
   "source": [
    "plt.plot(x_train, y_train)"
   ]
  },
  {
   "cell_type": "code",
   "execution_count": 44,
   "metadata": {},
   "outputs": [],
   "source": [
    "scaler_x = MinMaxScaler()\n",
    "scaler_y = MinMaxScaler()\n",
    "scaler_x.fit(x_train.reshape(-1,1))\n",
    "scaler_y.fit(y_train.reshape(-1,1))\n",
    "x_train = scaler_x.transform(x_train.reshape(-1, 1))\n",
    "y_train = scaler_y.transform(y_train.reshape(-1, 1))"
   ]
  },
  {
   "cell_type": "code",
   "execution_count": 45,
   "metadata": {},
   "outputs": [],
   "source": [
    "import torch \n",
    "from torch.autograd import Variable\n",
    "\n",
    "class LinearRegression(torch.nn.Module):\n",
    "    def __init__(self, input_size, output_size, hidden_size=10) -> None:\n",
    "        super(LinearRegression, self).__init__()\n",
    "        self.linear1 = torch.nn.Linear(input_dim, hidden_size)\n",
    "        self.linear2 = torch.nn.Linear(hidden_size, output_size)\n",
    "        self.linear = torch.nn.Linear(input_size, output_size)\n",
    "        \n",
    "    def forward(self, x):\n",
    "        # y = torch.nn.functional.relu(self.linear1(x))\n",
    "        # y = self.linear2(y)\n",
    "\n",
    "        y = self.linear(x)\n",
    "        return y"
   ]
  },
  {
   "cell_type": "code",
   "execution_count": 46,
   "metadata": {},
   "outputs": [],
   "source": [
    "input_dim = x_train.shape[1]\n",
    "output_dim = 1\n",
    "learning_rate = 0.02\n",
    "epochs = 100\n",
    "\n",
    "model = LinearRegression(input_dim, output_dim)\n",
    "\n",
    "### FOR GPU ###\n",
    "if torch.cuda.is_available():\n",
    "    model.cuda()"
   ]
  },
  {
   "cell_type": "code",
   "execution_count": 47,
   "metadata": {},
   "outputs": [],
   "source": [
    "# set loss\n",
    "criterion = torch.nn.MSELoss()\n",
    "\n",
    "optimizer = torch.optim.SGD(model.parameters(), lr=learning_rate)\n",
    "# optimizer = torch.optim.Adam(model.parameters())"
   ]
  },
  {
   "cell_type": "code",
   "execution_count": 48,
   "metadata": {},
   "outputs": [
    {
     "name": "stdout",
     "output_type": "stream",
     "text": [
      "tensor(0.4285, grad_fn=<MseLossBackward0>)\n",
      "epoch 0, loss 0.42848333716392517\n",
      "tensor(0.3865, grad_fn=<MseLossBackward0>)\n",
      "epoch 1, loss 0.386474609375\n",
      "tensor(0.3486, grad_fn=<MseLossBackward0>)\n",
      "epoch 2, loss 0.34861618280410767\n",
      "tensor(0.3145, grad_fn=<MseLossBackward0>)\n",
      "epoch 3, loss 0.31449785828590393\n",
      "tensor(0.2837, grad_fn=<MseLossBackward0>)\n",
      "epoch 4, loss 0.2837499976158142\n",
      "tensor(0.2560, grad_fn=<MseLossBackward0>)\n",
      "epoch 5, loss 0.25603944063186646\n",
      "tensor(0.2311, grad_fn=<MseLossBackward0>)\n",
      "epoch 6, loss 0.2310660183429718\n",
      "tensor(0.2086, grad_fn=<MseLossBackward0>)\n",
      "epoch 7, loss 0.20855921506881714\n",
      "tensor(0.1883, grad_fn=<MseLossBackward0>)\n",
      "epoch 8, loss 0.18827518820762634\n",
      "tensor(0.1700, grad_fn=<MseLossBackward0>)\n",
      "epoch 9, loss 0.16999433934688568\n",
      "tensor(0.1535, grad_fn=<MseLossBackward0>)\n",
      "epoch 10, loss 0.15351860225200653\n",
      "tensor(0.1387, grad_fn=<MseLossBackward0>)\n",
      "epoch 11, loss 0.13866958022117615\n",
      "tensor(0.1253, grad_fn=<MseLossBackward0>)\n",
      "epoch 12, loss 0.1252865195274353\n",
      "tensor(0.1132, grad_fn=<MseLossBackward0>)\n",
      "epoch 13, loss 0.11322454363107681\n",
      "tensor(0.1024, grad_fn=<MseLossBackward0>)\n",
      "epoch 14, loss 0.1023530662059784\n",
      "tensor(0.0926, grad_fn=<MseLossBackward0>)\n",
      "epoch 15, loss 0.09255445003509521\n",
      "tensor(0.0837, grad_fn=<MseLossBackward0>)\n",
      "epoch 16, loss 0.08372264355421066\n",
      "tensor(0.0758, grad_fn=<MseLossBackward0>)\n",
      "epoch 17, loss 0.07576210796833038\n",
      "tensor(0.0686, grad_fn=<MseLossBackward0>)\n",
      "epoch 18, loss 0.06858672201633453\n",
      "tensor(0.0621, grad_fn=<MseLossBackward0>)\n",
      "epoch 19, loss 0.062118906527757645\n",
      "tensor(0.0563, grad_fn=<MseLossBackward0>)\n",
      "epoch 20, loss 0.05628873035311699\n",
      "tensor(0.0510, grad_fn=<MseLossBackward0>)\n",
      "epoch 21, loss 0.05103319138288498\n",
      "tensor(0.0463, grad_fn=<MseLossBackward0>)\n",
      "epoch 22, loss 0.046295471489429474\n",
      "tensor(0.0420, grad_fn=<MseLossBackward0>)\n",
      "epoch 23, loss 0.0420244075357914\n",
      "tensor(0.0382, grad_fn=<MseLossBackward0>)\n",
      "epoch 24, loss 0.038173891603946686\n",
      "tensor(0.0347, grad_fn=<MseLossBackward0>)\n",
      "epoch 25, loss 0.0347023569047451\n",
      "tensor(0.0316, grad_fn=<MseLossBackward0>)\n",
      "epoch 26, loss 0.0315723791718483\n",
      "tensor(0.0288, grad_fn=<MseLossBackward0>)\n",
      "epoch 27, loss 0.028750179335474968\n",
      "tensor(0.0262, grad_fn=<MseLossBackward0>)\n",
      "epoch 28, loss 0.026205340400338173\n",
      "tensor(0.0239, grad_fn=<MseLossBackward0>)\n",
      "epoch 29, loss 0.02391047775745392\n",
      "tensor(0.0218, grad_fn=<MseLossBackward0>)\n",
      "epoch 30, loss 0.021840885281562805\n",
      "tensor(0.0200, grad_fn=<MseLossBackward0>)\n",
      "epoch 31, loss 0.019974306225776672\n",
      "tensor(0.0183, grad_fn=<MseLossBackward0>)\n",
      "epoch 32, loss 0.018290674313902855\n",
      "tensor(0.0168, grad_fn=<MseLossBackward0>)\n",
      "epoch 33, loss 0.016771920025348663\n",
      "tensor(0.0154, grad_fn=<MseLossBackward0>)\n",
      "epoch 34, loss 0.015401766635477543\n",
      "tensor(0.0142, grad_fn=<MseLossBackward0>)\n",
      "epoch 35, loss 0.014165525324642658\n",
      "tensor(0.0130, grad_fn=<MseLossBackward0>)\n",
      "epoch 36, loss 0.013049964793026447\n",
      "tensor(0.0120, grad_fn=<MseLossBackward0>)\n",
      "epoch 37, loss 0.012043162249028683\n",
      "tensor(0.0111, grad_fn=<MseLossBackward0>)\n",
      "epoch 38, loss 0.011134383268654346\n",
      "tensor(0.0103, grad_fn=<MseLossBackward0>)\n",
      "epoch 39, loss 0.01031394861638546\n",
      "tensor(0.0096, grad_fn=<MseLossBackward0>)\n",
      "epoch 40, loss 0.009573130868375301\n",
      "tensor(0.0089, grad_fn=<MseLossBackward0>)\n",
      "epoch 41, loss 0.008904067799448967\n",
      "tensor(0.0083, grad_fn=<MseLossBackward0>)\n",
      "epoch 42, loss 0.008299678564071655\n",
      "tensor(0.0078, grad_fn=<MseLossBackward0>)\n",
      "epoch 43, loss 0.007753573823720217\n",
      "tensor(0.0073, grad_fn=<MseLossBackward0>)\n",
      "epoch 44, loss 0.007260000333189964\n",
      "tensor(0.0068, grad_fn=<MseLossBackward0>)\n",
      "epoch 45, loss 0.00681377574801445\n",
      "tensor(0.0064, grad_fn=<MseLossBackward0>)\n",
      "epoch 46, loss 0.006410232745110989\n",
      "tensor(0.0060, grad_fn=<MseLossBackward0>)\n",
      "epoch 47, loss 0.006045151501893997\n",
      "tensor(0.0057, grad_fn=<MseLossBackward0>)\n",
      "epoch 48, loss 0.005714742932468653\n",
      "tensor(0.0054, grad_fn=<MseLossBackward0>)\n",
      "epoch 49, loss 0.005415585357695818\n",
      "tensor(0.0051, grad_fn=<MseLossBackward0>)\n",
      "epoch 50, loss 0.005144599825143814\n",
      "tensor(0.0049, grad_fn=<MseLossBackward0>)\n",
      "epoch 51, loss 0.004899004939943552\n",
      "tensor(0.0047, grad_fn=<MseLossBackward0>)\n",
      "epoch 52, loss 0.0046763005666434765\n",
      "tensor(0.0045, grad_fn=<MseLossBackward0>)\n",
      "epoch 53, loss 0.004474231973290443\n",
      "tensor(0.0043, grad_fn=<MseLossBackward0>)\n",
      "epoch 54, loss 0.0042907679453492165\n",
      "tensor(0.0041, grad_fn=<MseLossBackward0>)\n",
      "epoch 55, loss 0.004124075639992952\n",
      "tensor(0.0040, grad_fn=<MseLossBackward0>)\n",
      "epoch 56, loss 0.0039725033566355705\n",
      "tensor(0.0038, grad_fn=<MseLossBackward0>)\n",
      "epoch 57, loss 0.0038345635402947664\n",
      "tensor(0.0037, grad_fn=<MseLossBackward0>)\n",
      "epoch 58, loss 0.003708920441567898\n",
      "tensor(0.0036, grad_fn=<MseLossBackward0>)\n",
      "epoch 59, loss 0.0035943600814789534\n",
      "tensor(0.0035, grad_fn=<MseLossBackward0>)\n",
      "epoch 60, loss 0.0034897970035672188\n",
      "tensor(0.0034, grad_fn=<MseLossBackward0>)\n",
      "epoch 61, loss 0.003394248429685831\n",
      "tensor(0.0033, grad_fn=<MseLossBackward0>)\n",
      "epoch 62, loss 0.0033068328630179167\n",
      "tensor(0.0032, grad_fn=<MseLossBackward0>)\n",
      "epoch 63, loss 0.00322675216011703\n",
      "tensor(0.0032, grad_fn=<MseLossBackward0>)\n",
      "epoch 64, loss 0.00315328617580235\n",
      "tensor(0.0031, grad_fn=<MseLossBackward0>)\n",
      "epoch 65, loss 0.003085791366174817\n",
      "tensor(0.0030, grad_fn=<MseLossBackward0>)\n",
      "epoch 66, loss 0.0030236823949962854\n",
      "tensor(0.0030, grad_fn=<MseLossBackward0>)\n",
      "epoch 67, loss 0.002966433297842741\n",
      "tensor(0.0029, grad_fn=<MseLossBackward0>)\n",
      "epoch 68, loss 0.002913571195676923\n",
      "tensor(0.0029, grad_fn=<MseLossBackward0>)\n",
      "epoch 69, loss 0.002864669542759657\n",
      "tensor(0.0028, grad_fn=<MseLossBackward0>)\n",
      "epoch 70, loss 0.00281934323720634\n",
      "tensor(0.0028, grad_fn=<MseLossBackward0>)\n",
      "epoch 71, loss 0.0027772453613579273\n",
      "tensor(0.0027, grad_fn=<MseLossBackward0>)\n",
      "epoch 72, loss 0.002738062059506774\n",
      "tensor(0.0027, grad_fn=<MseLossBackward0>)\n",
      "epoch 73, loss 0.0027015144005417824\n",
      "tensor(0.0027, grad_fn=<MseLossBackward0>)\n",
      "epoch 74, loss 0.0026673467364162207\n",
      "tensor(0.0026, grad_fn=<MseLossBackward0>)\n",
      "epoch 75, loss 0.0026353320572525263\n",
      "tensor(0.0026, grad_fn=<MseLossBackward0>)\n",
      "epoch 76, loss 0.002605261281132698\n",
      "tensor(0.0026, grad_fn=<MseLossBackward0>)\n",
      "epoch 77, loss 0.002576950704678893\n",
      "tensor(0.0026, grad_fn=<MseLossBackward0>)\n",
      "epoch 78, loss 0.0025502315256744623\n",
      "tensor(0.0025, grad_fn=<MseLossBackward0>)\n",
      "epoch 79, loss 0.0025249544996768236\n",
      "tensor(0.0025, grad_fn=<MseLossBackward0>)\n",
      "epoch 80, loss 0.002500981790944934\n",
      "tensor(0.0025, grad_fn=<MseLossBackward0>)\n",
      "epoch 81, loss 0.0024781906977295876\n",
      "tensor(0.0025, grad_fn=<MseLossBackward0>)\n",
      "epoch 82, loss 0.0024564710911363363\n",
      "tensor(0.0024, grad_fn=<MseLossBackward0>)\n",
      "epoch 83, loss 0.0024357230868190527\n",
      "tensor(0.0024, grad_fn=<MseLossBackward0>)\n",
      "epoch 84, loss 0.002415858441963792\n",
      "tensor(0.0024, grad_fn=<MseLossBackward0>)\n",
      "epoch 85, loss 0.002396794967353344\n",
      "tensor(0.0024, grad_fn=<MseLossBackward0>)\n",
      "epoch 86, loss 0.0023784595541656017\n",
      "tensor(0.0024, grad_fn=<MseLossBackward0>)\n",
      "epoch 87, loss 0.002360785845667124\n",
      "tensor(0.0023, grad_fn=<MseLossBackward0>)\n",
      "epoch 88, loss 0.002343714004382491\n",
      "tensor(0.0023, grad_fn=<MseLossBackward0>)\n",
      "epoch 89, loss 0.0023271911777555943\n",
      "tensor(0.0023, grad_fn=<MseLossBackward0>)\n",
      "epoch 90, loss 0.0023111701011657715\n",
      "tensor(0.0023, grad_fn=<MseLossBackward0>)\n",
      "epoch 91, loss 0.002295604906976223\n",
      "tensor(0.0023, grad_fn=<MseLossBackward0>)\n",
      "epoch 92, loss 0.0022804602049291134\n",
      "tensor(0.0023, grad_fn=<MseLossBackward0>)\n",
      "epoch 93, loss 0.0022656964138150215\n",
      "tensor(0.0023, grad_fn=<MseLossBackward0>)\n",
      "epoch 94, loss 0.0022512837313115597\n",
      "tensor(0.0022, grad_fn=<MseLossBackward0>)\n",
      "epoch 95, loss 0.002237194450572133\n",
      "tensor(0.0022, grad_fn=<MseLossBackward0>)\n",
      "epoch 96, loss 0.002223400166258216\n",
      "tensor(0.0022, grad_fn=<MseLossBackward0>)\n",
      "epoch 97, loss 0.0022098771296441555\n",
      "tensor(0.0022, grad_fn=<MseLossBackward0>)\n",
      "epoch 98, loss 0.0021966067142784595\n",
      "tensor(0.0022, grad_fn=<MseLossBackward0>)\n",
      "epoch 99, loss 0.002183566801249981\n"
     ]
    }
   ],
   "source": [
    "for epoch in range(epochs):\n",
    "    inputs = Variable(torch.from_numpy(x_train))\n",
    "    labels = Variable(torch.from_numpy(y_train))\n",
    "    \n",
    "    # clear gradient buffers\n",
    "    optimizer.zero_grad()\n",
    "    \n",
    "    outputs = model(inputs)\n",
    "    \n",
    "    # get the loss\n",
    "    loss = criterion(outputs, labels)\n",
    "    print(loss)\n",
    "    \n",
    "    # get gradients w.r.t to parameters\n",
    "    loss.backward()\n",
    "    \n",
    "    # update parameters\n",
    "    optimizer.step()\n",
    "    \n",
    "    print(f'epoch {epoch}, loss {loss.item()}')"
   ]
  },
  {
   "cell_type": "code",
   "execution_count": 49,
   "metadata": {},
   "outputs": [
    {
     "name": "stdout",
     "output_type": "stream",
     "text": [
      "[[-0.08821916]\n",
      " [-0.08706108]\n",
      " [-0.08590301]\n",
      " ...\n",
      " [ 1.0675378 ]\n",
      " [ 1.0686959 ]\n",
      " [ 1.0698539 ]]\n"
     ]
    },
    {
     "data": {
      "image/png": "[encoded data removed]",
      "text/plain": [
       "<Figure size 432x288 with 1 Axes>"
      ]
     },
     "metadata": {
      "needs_background": "light"
     },
     "output_type": "display_data"
    }
   ],
   "source": [
    "with torch.no_grad():\n",
    "    predicted = model(Variable(torch.from_numpy(x_train))).data.numpy()\n",
    "    print(predicted)\n",
    "    \n",
    "plt.clf()\n",
    "plt.plot(x_train, y_train, 'go', label=\"True Data\", alpha=0.5)\n",
    "plt.plot(x_train, predicted, '--', label='Predictions', alpha=0.5)\n",
    "# plt.plot(scaler_x.inverse_transform(x_train), scaler_y.inverse_transform(y_train), 'go', label=\"True Data\", alpha=0.5)\n",
    "# plt.plot(scaler_x.inverse_transform(x_train), scaler_y.inverse_transform(predicted), '--', label='Predictions', alpha=0.5)\n",
    "plt.legend(loc='best')\n",
    "plt.show()"
   ]
  },
  {
   "cell_type": "code",
   "execution_count": 50,
   "metadata": {},
   "outputs": [
    {
     "name": "stdout",
     "output_type": "stream",
     "text": [
      "tensor([[ 0.7484],\n",
      "        [-0.6073],\n",
      "        [-0.6569],\n",
      "        [-0.5755],\n",
      "        [-0.6414],\n",
      "        [ 0.4598],\n",
      "        [-0.3978],\n",
      "        [ 0.0468],\n",
      "        [ 0.9505],\n",
      "        [ 0.1657]])\n",
      "tensor([ 0.6016,  0.2065,  0.6468,  0.0298, -0.7483,  0.5339, -0.0179,  0.6489,\n",
      "        -0.6598,  0.1480])\n",
      "tensor([[-0.1029, -0.0402,  0.0790, -0.2815, -0.1129,  0.0327, -0.1504, -0.1305,\n",
      "          0.0168,  0.0809]])\n",
      "tensor([0.1592])\n",
      "tensor([[1.1581]])\n",
      "tensor([-0.0882])\n"
     ]
    }
   ],
   "source": [
    "for param in model.parameters():\n",
    "    print(param.data)"
   ]
  }
 ],
 "metadata": {
  "interpreter": {
   "hash": "5babec41400dd803e5ccddfdaa7cc8ca10e24ca1bd9ba67290c0529853629cb5"
  },
  "kernelspec": {
   "display_name": "Python 3.9.7 64-bit ('ml_tf': conda)",
   "language": "python",
   "name": "python3"
  },
  "language_info": {
   "codemirror_mode": {
    "name": "ipython",
    "version": 3
   },
   "file_extension": ".py",
   "mimetype": "text/x-python",
   "name": "python",
   "nbconvert_exporter": "python",
   "pygments_lexer": "ipython3",
   "version": "3.9.7"
  },
  "orig_nbformat": 4
 },
 "nbformat": 4,
 "nbformat_minor": 2
}
